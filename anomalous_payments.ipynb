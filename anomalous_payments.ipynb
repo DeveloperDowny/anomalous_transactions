{
 "cells": [
  {
   "cell_type": "code",
   "execution_count": 1,
   "metadata": {},
   "outputs": [],
   "source": [
    "import pandas as pd"
   ]
  },
  {
   "cell_type": "code",
   "execution_count": 2,
   "metadata": {},
   "outputs": [],
   "source": [
    "fp = \"v3_ad.xls\"\n"
   ]
  },
  {
   "cell_type": "code",
   "execution_count": 3,
   "metadata": {},
   "outputs": [],
   "source": [
    "\n",
    "df = pd.read_excel(fp)\n",
    "df = df.drop([\"Closing Balance\"], axis = 1)\n"
   ]
  },
  {
   "cell_type": "code",
   "execution_count": 4,
   "metadata": {},
   "outputs": [],
   "source": [
    "\n",
    "# max min scale the Withdrawal Amt. and Deposit Amt. columns\n",
    "from sklearn.preprocessing import MinMaxScaler\n",
    "\n",
    "scaler = MinMaxScaler()\n",
    "df[[\"Withdrawal Amt.\", \"Deposit Amt.\"]] = scaler.fit_transform(df[[\"Withdrawal Amt.\", \"Deposit Amt.\"]])\n"
   ]
  },
  {
   "cell_type": "code",
   "execution_count": 6,
   "metadata": {},
   "outputs": [],
   "source": [
    "\n",
    "odf = df"
   ]
  },
  {
   "cell_type": "code",
   "execution_count": 7,
   "metadata": {},
   "outputs": [],
   "source": [
    "# keep only the left part of @ from narration\n",
    "odf[\"Narration\"] = odf[\"Narration\"].str.split(\"@\").str[0]\n",
    "\n",
    "# 228 mk"
   ]
  },
  {
   "cell_type": "code",
   "execution_count": 8,
   "metadata": {},
   "outputs": [],
   "source": [
    "from Crypto.Cipher import AES\n",
    "from Crypto.Util.Padding import pad, unpad\n",
    "from sec_key import secret_key \n",
    "\n",
    "def encrypt_text(text, key):\n",
    "    \"\"\"\n",
    "    Encrypts the given text using AES encryption with the specified key.\n",
    "\n",
    "    Args:\n",
    "        text (str): The input text to be encrypted.\n",
    "        key (bytes): The secret key used for encryption.\n",
    "\n",
    "    Returns:\n",
    "        bytes: The encrypted text.\n",
    "    \"\"\"\n",
    "    # Create a cipher object\n",
    "    cipher = AES.new(key, AES.MODE_ECB)\n",
    "\n",
    "    # Pad the text to be a multiple of 16 bytes\n",
    "    padded_text = pad(text.encode('utf-8'), AES.block_size)\n",
    "\n",
    "    # Encrypt the padded text\n",
    "    encrypted_text = cipher.encrypt(padded_text)\n",
    "\n",
    "    return encrypted_text"
   ]
  },
  {
   "cell_type": "code",
   "execution_count": 9,
   "metadata": {},
   "outputs": [],
   "source": [
    "def decrypt_text(encrypted_text, key):\n",
    "    \"\"\"\n",
    "    Decrypts the given encrypted text using AES decryption with the specified key.\n",
    "\n",
    "    Args:\n",
    "        encrypted_text (bytes): The encrypted text to be decrypted.\n",
    "        key (bytes): The secret key used for decryption.\n",
    "\n",
    "    Returns:\n",
    "        str: The decrypted text.\n",
    "    \"\"\"\n",
    "    # Create a cipher object\n",
    "    cipher = AES.new(key, AES.MODE_ECB)\n",
    "\n",
    "    # Decrypt the encrypted text\n",
    "    decrypted_padded_text = cipher.decrypt(encrypted_text)\n",
    "\n",
    "    # Remove the padding from the decrypted text\n",
    "    decrypted_text = unpad(decrypted_padded_text, AES.block_size)\n",
    "\n",
    "    return decrypted_text.decode('utf-8')"
   ]
  },
  {
   "cell_type": "code",
   "execution_count": 10,
   "metadata": {},
   "outputs": [
    {
     "data": {
      "text/html": [
       "<div>\n",
       "<style scoped>\n",
       "    .dataframe tbody tr th:only-of-type {\n",
       "        vertical-align: middle;\n",
       "    }\n",
       "\n",
       "    .dataframe tbody tr th {\n",
       "        vertical-align: top;\n",
       "    }\n",
       "\n",
       "    .dataframe thead th {\n",
       "        text-align: right;\n",
       "    }\n",
       "</style>\n",
       "<table border=\"1\" class=\"dataframe\">\n",
       "  <thead>\n",
       "    <tr style=\"text-align: right;\">\n",
       "      <th></th>\n",
       "      <th>Date</th>\n",
       "      <th>Narration</th>\n",
       "      <th>Chq./Ref.No.</th>\n",
       "      <th>Value Dt</th>\n",
       "      <th>Withdrawal Amt.</th>\n",
       "      <th>Deposit Amt.</th>\n",
       "    </tr>\n",
       "  </thead>\n",
       "  <tbody>\n",
       "    <tr>\n",
       "      <th>0</th>\n",
       "      <td>01/04/22</td>\n",
       "      <td>b'\\xae\\xf71-\\xa6u\\xfe\\xe4\\x1a\\xbf\\xf9\\xd0\\xec\\...</td>\n",
       "      <td>0000209183559769</td>\n",
       "      <td>01/04/22</td>\n",
       "      <td>0.008713</td>\n",
       "      <td>NaN</td>\n",
       "    </tr>\n",
       "    <tr>\n",
       "      <th>1</th>\n",
       "      <td>01/04/22</td>\n",
       "      <td>b'\\xc4\\xd1c\\xca\\x9a`\\xb7-\\xcb\\xe6+\\xe9h\\xfan\\x...</td>\n",
       "      <td>0000209192388206</td>\n",
       "      <td>01/04/22</td>\n",
       "      <td>0.008428</td>\n",
       "      <td>NaN</td>\n",
       "    </tr>\n",
       "    <tr>\n",
       "      <th>2</th>\n",
       "      <td>01/04/22</td>\n",
       "      <td>b'\\rf)\".\\x00\"\\x80Tn\\xe9\\xac\\x1e\"8\\x8c\\xb0\\x13\\...</td>\n",
       "      <td>0000209193456839</td>\n",
       "      <td>01/04/22</td>\n",
       "      <td>0.056279</td>\n",
       "      <td>NaN</td>\n",
       "    </tr>\n",
       "    <tr>\n",
       "      <th>3</th>\n",
       "      <td>01/04/22</td>\n",
       "      <td>b'\\rf)\".\\x00\"\\x80Tn\\xe9\\xac\\x1e\"8\\x8c\\xb0\\x13\\...</td>\n",
       "      <td>0000209193525236</td>\n",
       "      <td>01/04/22</td>\n",
       "      <td>0.010384</td>\n",
       "      <td>NaN</td>\n",
       "    </tr>\n",
       "    <tr>\n",
       "      <th>4</th>\n",
       "      <td>02/04/22</td>\n",
       "      <td>b\"\\xd9\\xe2M\\xe5\\x9f\\x18\\xcd\\x98\\xbf!\\xc1\\xdb\\x...</td>\n",
       "      <td>0000209200514102</td>\n",
       "      <td>02/04/22</td>\n",
       "      <td>0.008694</td>\n",
       "      <td>NaN</td>\n",
       "    </tr>\n",
       "  </tbody>\n",
       "</table>\n",
       "</div>"
      ],
      "text/plain": [
       "       Date                                          Narration  \\\n",
       "0  01/04/22  b'\\xae\\xf71-\\xa6u\\xfe\\xe4\\x1a\\xbf\\xf9\\xd0\\xec\\...   \n",
       "1  01/04/22  b'\\xc4\\xd1c\\xca\\x9a`\\xb7-\\xcb\\xe6+\\xe9h\\xfan\\x...   \n",
       "2  01/04/22  b'\\rf)\".\\x00\"\\x80Tn\\xe9\\xac\\x1e\"8\\x8c\\xb0\\x13\\...   \n",
       "3  01/04/22  b'\\rf)\".\\x00\"\\x80Tn\\xe9\\xac\\x1e\"8\\x8c\\xb0\\x13\\...   \n",
       "4  02/04/22  b\"\\xd9\\xe2M\\xe5\\x9f\\x18\\xcd\\x98\\xbf!\\xc1\\xdb\\x...   \n",
       "\n",
       "       Chq./Ref.No.  Value Dt  Withdrawal Amt.  Deposit Amt.  \n",
       "0  0000209183559769  01/04/22         0.008713           NaN  \n",
       "1  0000209192388206  01/04/22         0.008428           NaN  \n",
       "2  0000209193456839  01/04/22         0.056279           NaN  \n",
       "3  0000209193525236  01/04/22         0.010384           NaN  \n",
       "4  0000209200514102  02/04/22         0.008694           NaN  "
      ]
     },
     "execution_count": 10,
     "metadata": {},
     "output_type": "execute_result"
    }
   ],
   "source": [
    "# encrypt narration column\n",
    "odf[\"Narration\"] = odf[\"Narration\"].apply(lambda x: encrypt_text(x, secret_key))\n",
    "odf.head()"
   ]
  },
  {
   "cell_type": "code",
   "execution_count": 12,
   "metadata": {},
   "outputs": [],
   "source": [
    "tk = [\"Date\", \"Withdrawal Amt.\", \"Deposit Amt.\"]\n",
    "df = df[tk]"
   ]
  },
  {
   "cell_type": "code",
   "execution_count": 13,
   "metadata": {},
   "outputs": [
    {
     "data": {
      "text/html": [
       "<div>\n",
       "<style scoped>\n",
       "    .dataframe tbody tr th:only-of-type {\n",
       "        vertical-align: middle;\n",
       "    }\n",
       "\n",
       "    .dataframe tbody tr th {\n",
       "        vertical-align: top;\n",
       "    }\n",
       "\n",
       "    .dataframe thead th {\n",
       "        text-align: right;\n",
       "    }\n",
       "</style>\n",
       "<table border=\"1\" class=\"dataframe\">\n",
       "  <thead>\n",
       "    <tr style=\"text-align: right;\">\n",
       "      <th></th>\n",
       "      <th>Date</th>\n",
       "      <th>Withdrawal Amt.</th>\n",
       "      <th>Deposit Amt.</th>\n",
       "    </tr>\n",
       "  </thead>\n",
       "  <tbody>\n",
       "    <tr>\n",
       "      <th>0</th>\n",
       "      <td>01/04/22</td>\n",
       "      <td>0.008713</td>\n",
       "      <td>NaN</td>\n",
       "    </tr>\n",
       "    <tr>\n",
       "      <th>1</th>\n",
       "      <td>01/04/22</td>\n",
       "      <td>0.008428</td>\n",
       "      <td>NaN</td>\n",
       "    </tr>\n",
       "    <tr>\n",
       "      <th>2</th>\n",
       "      <td>01/04/22</td>\n",
       "      <td>0.056279</td>\n",
       "      <td>NaN</td>\n",
       "    </tr>\n",
       "    <tr>\n",
       "      <th>3</th>\n",
       "      <td>01/04/22</td>\n",
       "      <td>0.010384</td>\n",
       "      <td>NaN</td>\n",
       "    </tr>\n",
       "    <tr>\n",
       "      <th>4</th>\n",
       "      <td>02/04/22</td>\n",
       "      <td>0.008694</td>\n",
       "      <td>NaN</td>\n",
       "    </tr>\n",
       "  </tbody>\n",
       "</table>\n",
       "</div>"
      ],
      "text/plain": [
       "       Date  Withdrawal Amt.  Deposit Amt.\n",
       "0  01/04/22         0.008713           NaN\n",
       "1  01/04/22         0.008428           NaN\n",
       "2  01/04/22         0.056279           NaN\n",
       "3  01/04/22         0.010384           NaN\n",
       "4  02/04/22         0.008694           NaN"
      ]
     },
     "execution_count": 13,
     "metadata": {},
     "output_type": "execute_result"
    }
   ],
   "source": [
    "df.head()"
   ]
  },
  {
   "cell_type": "code",
   "execution_count": 14,
   "metadata": {},
   "outputs": [
    {
     "name": "stderr",
     "output_type": "stream",
     "text": [
      "C:\\Users\\Vedant\\AppData\\Local\\Temp\\ipykernel_96784\\2313416751.py:1: SettingWithCopyWarning: \n",
      "A value is trying to be set on a copy of a slice from a DataFrame.\n",
      "Try using .loc[row_indexer,col_indexer] = value instead\n",
      "\n",
      "See the caveats in the documentation: https://pandas.pydata.org/pandas-docs/stable/user_guide/indexing.html#returning-a-view-versus-a-copy\n",
      "  df[\"Date\"] = pd.to_datetime(df[\"Date\"], format=\"%d/%m/%y\")\n",
      "C:\\Users\\Vedant\\AppData\\Local\\Temp\\ipykernel_96784\\2313416751.py:2: SettingWithCopyWarning: \n",
      "A value is trying to be set on a copy of a slice from a DataFrame.\n",
      "Try using .loc[row_indexer,col_indexer] = value instead\n",
      "\n",
      "See the caveats in the documentation: https://pandas.pydata.org/pandas-docs/stable/user_guide/indexing.html#returning-a-view-versus-a-copy\n",
      "  df[\"Withdrawal Amt.\"] = pd.to_numeric(df[\"Withdrawal Amt.\"], errors=\"coerce\")\n",
      "C:\\Users\\Vedant\\AppData\\Local\\Temp\\ipykernel_96784\\2313416751.py:3: SettingWithCopyWarning: \n",
      "A value is trying to be set on a copy of a slice from a DataFrame.\n",
      "Try using .loc[row_indexer,col_indexer] = value instead\n",
      "\n",
      "See the caveats in the documentation: https://pandas.pydata.org/pandas-docs/stable/user_guide/indexing.html#returning-a-view-versus-a-copy\n",
      "  df[\"Deposit Amt.\"] = pd.to_numeric(df[\"Deposit Amt.\"], errors=\"coerce\")\n"
     ]
    }
   ],
   "source": [
    "df[\"Date\"] = pd.to_datetime(df[\"Date\"], format=\"%d/%m/%y\")\n",
    "df[\"Withdrawal Amt.\"] = pd.to_numeric(df[\"Withdrawal Amt.\"], errors=\"coerce\")\n",
    "df[\"Deposit Amt.\"] = pd.to_numeric(df[\"Deposit Amt.\"], errors=\"coerce\")\n"
   ]
  },
  {
   "cell_type": "code",
   "execution_count": 15,
   "metadata": {},
   "outputs": [
    {
     "name": "stderr",
     "output_type": "stream",
     "text": [
      "C:\\Users\\Vedant\\AppData\\Local\\Temp\\ipykernel_96784\\1459035464.py:4: SettingWithCopyWarning: \n",
      "A value is trying to be set on a copy of a slice from a DataFrame.\n",
      "Try using .loc[row_indexer,col_indexer] = value instead\n",
      "\n",
      "See the caveats in the documentation: https://pandas.pydata.org/pandas-docs/stable/user_guide/indexing.html#returning-a-view-versus-a-copy\n",
      "  df[[\"Withdrawal Amt.\", \"Deposit Amt.\"]] = scaler.fit_transform(df[[\"Withdrawal Amt.\", \"Deposit Amt.\"]])\n"
     ]
    }
   ],
   "source": [
    "# use appropriate scaler to scale the numeric columns\n",
    "from sklearn.preprocessing import StandardScaler\n",
    "scaler = StandardScaler()\n",
    "df[[\"Withdrawal Amt.\", \"Deposit Amt.\"]] = scaler.fit_transform(df[[\"Withdrawal Amt.\", \"Deposit Amt.\"]])\n"
   ]
  },
  {
   "cell_type": "code",
   "execution_count": 16,
   "metadata": {},
   "outputs": [
    {
     "name": "stdout",
     "output_type": "stream",
     "text": [
      "          Date  Withdrawal Amt.  Deposit Amt.\n",
      "2   2022-04-01         0.682580           NaN\n",
      "21  2022-04-04         0.150424           NaN\n",
      "22  2022-04-05         0.150424           NaN\n",
      "30  2022-04-11         0.057382           NaN\n",
      "77  2022-04-23         0.150424           NaN\n",
      "..         ...              ...           ...\n",
      "951 2023-03-15         0.460791           NaN\n",
      "961 2023-03-21         0.493750           NaN\n",
      "966 2023-03-24         0.071115           NaN\n",
      "973 2023-03-25         0.034379           NaN\n",
      "995 2023-03-30         0.421995           NaN\n",
      "\n",
      "[98 rows x 3 columns]\n"
     ]
    }
   ],
   "source": [
    "# Calculate the IQR for \"Withdrawal Amt.\" column\n",
    "Q1 = df[\"Withdrawal Amt.\"].quantile(0.25)\n",
    "Q3 = df[\"Withdrawal Amt.\"].quantile(0.75)\n",
    "IQR = Q3 - Q1\n",
    "\n",
    "# Determine the lower and upper bounds for anomalous withdrawals\n",
    "lower_bound = Q1 - 1.5 * IQR\n",
    "upper_bound = Q3 + 1.5 * IQR\n",
    "\n",
    "# Filter the DataFrame to include only anomalous withdrawals\n",
    "anomalous_withdrawals = df[(df[\"Withdrawal Amt.\"] < lower_bound) | (df[\"Withdrawal Amt.\"] > upper_bound)]\n",
    "\n",
    "# Print the anomalous withdrawals\n",
    "print(anomalous_withdrawals)"
   ]
  },
  {
   "cell_type": "markdown",
   "metadata": {},
   "source": [
    "Quartile method didn't give satisfactory results"
   ]
  },
  {
   "cell_type": "code",
   "execution_count": 17,
   "metadata": {},
   "outputs": [
    {
     "data": {
      "image/png": "[encoded data removed]",
      "text/plain": [
       "<Figure size 640x480 with 1 Axes>"
      ]
     },
     "metadata": {},
     "output_type": "display_data"
    }
   ],
   "source": [
    "import matplotlib.pyplot as plt\n",
    "\n",
    "# Plot the Withdrawal Amt. column\n",
    "df[\"Withdrawal Amt.\"].plot()\n",
    "\n",
    "# Plot the anomalous withdrawals\n",
    "anomalous_withdrawals[\"Withdrawal Amt.\"].plot(style=\"ro\")\n",
    "\n",
    "# Set the plot title and labels\n",
    "plt.title(\"Anomalies in Comparison to Inlines\")\n",
    "plt.xlabel(\"Index\")\n",
    "plt.ylabel(\"Withdrawal Amount\")\n",
    "\n",
    "# Show the plot\n",
    "plt.show()\n"
   ]
  },
  {
   "cell_type": "code",
   "execution_count": 18,
   "metadata": {},
   "outputs": [
    {
     "data": {
      "text/html": [
       "<div>\n",
       "<style scoped>\n",
       "    .dataframe tbody tr th:only-of-type {\n",
       "        vertical-align: middle;\n",
       "    }\n",
       "\n",
       "    .dataframe tbody tr th {\n",
       "        vertical-align: top;\n",
       "    }\n",
       "\n",
       "    .dataframe thead th {\n",
       "        text-align: right;\n",
       "    }\n",
       "</style>\n",
       "<table border=\"1\" class=\"dataframe\">\n",
       "  <thead>\n",
       "    <tr style=\"text-align: right;\">\n",
       "      <th></th>\n",
       "      <th>Date</th>\n",
       "      <th>Narration</th>\n",
       "      <th>Chq./Ref.No.</th>\n",
       "      <th>Value Dt</th>\n",
       "      <th>Withdrawal Amt.</th>\n",
       "      <th>Deposit Amt.</th>\n",
       "    </tr>\n",
       "  </thead>\n",
       "  <tbody>\n",
       "    <tr>\n",
       "      <th>214</th>\n",
       "      <td>12/06/22</td>\n",
       "      <td>b'\\xdb\\xcf\\xc0\\x8e\\xef\\xda\\xf9\\xba\\xf0\\x1f\\x9a...</td>\n",
       "      <td>0000216341852268</td>\n",
       "      <td>12/06/22</td>\n",
       "      <td>0.020771</td>\n",
       "      <td>NaN</td>\n",
       "    </tr>\n",
       "    <tr>\n",
       "      <th>632</th>\n",
       "      <td>26/12/22</td>\n",
       "      <td>b'\\xd4q%\\x08\\xe8\\xbf)\\xf9\\xe9\\xc9l\\x96\\xc0\\xac...</td>\n",
       "      <td>0000236088344349</td>\n",
       "      <td>26/12/22</td>\n",
       "      <td>0.032316</td>\n",
       "      <td>NaN</td>\n",
       "    </tr>\n",
       "    <tr>\n",
       "      <th>482</th>\n",
       "      <td>17/10/22</td>\n",
       "      <td>b'?\\x89\\xc9(\\xa0p\\x8a\\xa9\\x120\\xdb\\xbe\\xa0cm\\x...</td>\n",
       "      <td>0000229015578718</td>\n",
       "      <td>17/10/22</td>\n",
       "      <td>0.042778</td>\n",
       "      <td>NaN</td>\n",
       "    </tr>\n",
       "    <tr>\n",
       "      <th>434</th>\n",
       "      <td>27/09/22</td>\n",
       "      <td>b'\\xdcT\\xa0\\xb7B\"\\xeb\\x9d\\x11AfA\\xad\\x9c\\xe9\\x...</td>\n",
       "      <td>0000227067745044</td>\n",
       "      <td>27/09/22</td>\n",
       "      <td>0.021169</td>\n",
       "      <td>NaN</td>\n",
       "    </tr>\n",
       "    <tr>\n",
       "      <th>785</th>\n",
       "      <td>09/02/23</td>\n",
       "      <td>b\"j\\x96\\xb1V\\xf7\\xf0;{\\xc8\\x81\\xdc\\xd8D\\x85\\x1...</td>\n",
       "      <td>0000304041790396</td>\n",
       "      <td>09/02/23</td>\n",
       "      <td>0.025119</td>\n",
       "      <td>NaN</td>\n",
       "    </tr>\n",
       "    <tr>\n",
       "      <th>651</th>\n",
       "      <td>02/01/23</td>\n",
       "      <td>b':&lt;\\xa0\\xedTk\\xf3\\xe5=?\\x1b\\x0e8\\xa9&lt;+\\xc2\\x8...</td>\n",
       "      <td>0000300215288187</td>\n",
       "      <td>02/01/23</td>\n",
       "      <td>0.045835</td>\n",
       "      <td>NaN</td>\n",
       "    </tr>\n",
       "    <tr>\n",
       "      <th>374</th>\n",
       "      <td>29/08/22</td>\n",
       "      <td>b'\\x7f\\x9d\\xdb\\xcc\\xe7!\\xc7\\x95\\xcf\\x00$\\x18\\x...</td>\n",
       "      <td>0000224103670709</td>\n",
       "      <td>29/08/22</td>\n",
       "      <td>0.050392</td>\n",
       "      <td>NaN</td>\n",
       "    </tr>\n",
       "    <tr>\n",
       "      <th>21</th>\n",
       "      <td>04/04/22</td>\n",
       "      <td>b'3#\\xa8\\xdd\\xc3Sx\\x10\\xe1\\xa9\\xcf;\\x1c\\xe5\\x8...</td>\n",
       "      <td>0000209451164732</td>\n",
       "      <td>04/04/22</td>\n",
       "      <td>0.026847</td>\n",
       "      <td>NaN</td>\n",
       "    </tr>\n",
       "    <tr>\n",
       "      <th>77</th>\n",
       "      <td>23/04/22</td>\n",
       "      <td>b':&lt;\\xa0\\xedTk\\xf3\\xe5=?\\x1b\\x0e8\\xa9&lt;+ \\xecM\\...</td>\n",
       "      <td>0000211318018419</td>\n",
       "      <td>23/04/22</td>\n",
       "      <td>0.026847</td>\n",
       "      <td>NaN</td>\n",
       "    </tr>\n",
       "    <tr>\n",
       "      <th>242</th>\n",
       "      <td>26/06/22</td>\n",
       "      <td>b'\\xe4\\xc0\\x1a\\x004\\x8aW\\xe3\\xf5\\xee\\xaa\\xcf\\x...</td>\n",
       "      <td>0000217702172195</td>\n",
       "      <td>26/06/22</td>\n",
       "      <td>0.019916</td>\n",
       "      <td>NaN</td>\n",
       "    </tr>\n",
       "  </tbody>\n",
       "</table>\n",
       "</div>"
      ],
      "text/plain": [
       "         Date                                          Narration  \\\n",
       "214  12/06/22  b'\\xdb\\xcf\\xc0\\x8e\\xef\\xda\\xf9\\xba\\xf0\\x1f\\x9a...   \n",
       "632  26/12/22  b'\\xd4q%\\x08\\xe8\\xbf)\\xf9\\xe9\\xc9l\\x96\\xc0\\xac...   \n",
       "482  17/10/22  b'?\\x89\\xc9(\\xa0p\\x8a\\xa9\\x120\\xdb\\xbe\\xa0cm\\x...   \n",
       "434  27/09/22  b'\\xdcT\\xa0\\xb7B\"\\xeb\\x9d\\x11AfA\\xad\\x9c\\xe9\\x...   \n",
       "785  09/02/23  b\"j\\x96\\xb1V\\xf7\\xf0;{\\xc8\\x81\\xdc\\xd8D\\x85\\x1...   \n",
       "651  02/01/23  b':<\\xa0\\xedTk\\xf3\\xe5=?\\x1b\\x0e8\\xa9<+\\xc2\\x8...   \n",
       "374  29/08/22  b'\\x7f\\x9d\\xdb\\xcc\\xe7!\\xc7\\x95\\xcf\\x00$\\x18\\x...   \n",
       "21   04/04/22  b'3#\\xa8\\xdd\\xc3Sx\\x10\\xe1\\xa9\\xcf;\\x1c\\xe5\\x8...   \n",
       "77   23/04/22  b':<\\xa0\\xedTk\\xf3\\xe5=?\\x1b\\x0e8\\xa9<+ \\xecM\\...   \n",
       "242  26/06/22  b'\\xe4\\xc0\\x1a\\x004\\x8aW\\xe3\\xf5\\xee\\xaa\\xcf\\x...   \n",
       "\n",
       "         Chq./Ref.No.  Value Dt  Withdrawal Amt.  Deposit Amt.  \n",
       "214  0000216341852268  12/06/22         0.020771           NaN  \n",
       "632  0000236088344349  26/12/22         0.032316           NaN  \n",
       "482  0000229015578718  17/10/22         0.042778           NaN  \n",
       "434  0000227067745044  27/09/22         0.021169           NaN  \n",
       "785  0000304041790396  09/02/23         0.025119           NaN  \n",
       "651  0000300215288187  02/01/23         0.045835           NaN  \n",
       "374  0000224103670709  29/08/22         0.050392           NaN  \n",
       "21   0000209451164732  04/04/22         0.026847           NaN  \n",
       "77   0000211318018419  23/04/22         0.026847           NaN  \n",
       "242  0000217702172195  26/06/22         0.019916           NaN  "
      ]
     },
     "execution_count": 18,
     "metadata": {},
     "output_type": "execute_result"
    }
   ],
   "source": [
    "# show the anomalous entries in odf\n",
    "adf1 = odf.iloc[anomalous_withdrawals.index]\n",
    "adf1.sample(10)"
   ]
  },
  {
   "cell_type": "code",
   "execution_count": 19,
   "metadata": {},
   "outputs": [
    {
     "data": {
      "text/plain": [
       "Date                                                        24/09/22\n",
       "Narration          b'\\x8dh\\x0f\\x84^h\\xbb:\\xcd\\x1d\\xf6\\x12vV\\x89\\x...\n",
       "Chq./Ref.No.                                        0000226704574200\n",
       "Value Dt                                                    24/09/22\n",
       "Withdrawal Amt.                                             0.045873\n",
       "Deposit Amt.                                                     NaN\n",
       "Name: 425, dtype: object"
      ]
     },
     "execution_count": 19,
     "metadata": {},
     "output_type": "execute_result"
    }
   ],
   "source": [
    "odf.iloc[425]"
   ]
  },
  {
   "cell_type": "code",
   "execution_count": 20,
   "metadata": {},
   "outputs": [],
   "source": [
    "# odf[odf[\"Narration\"].str.decrypt_text.contains(\"AMEY\")].head()\n",
    "\n",
    "# decrypt the narration and check for contains\n",
    "odf[\"Narration\"] = odf[\"Narration\"].apply(lambda x: decrypt_text(x, secret_key))\n"
   ]
  },
  {
   "cell_type": "code",
   "execution_count": 21,
   "metadata": {},
   "outputs": [
    {
     "data": {
      "text/html": [
       "<div>\n",
       "<style scoped>\n",
       "    .dataframe tbody tr th:only-of-type {\n",
       "        vertical-align: middle;\n",
       "    }\n",
       "\n",
       "    .dataframe tbody tr th {\n",
       "        vertical-align: top;\n",
       "    }\n",
       "\n",
       "    .dataframe thead th {\n",
       "        text-align: right;\n",
       "    }\n",
       "</style>\n",
       "<table border=\"1\" class=\"dataframe\">\n",
       "  <thead>\n",
       "    <tr style=\"text-align: right;\">\n",
       "      <th></th>\n",
       "      <th>Date</th>\n",
       "      <th>Narration</th>\n",
       "      <th>Chq./Ref.No.</th>\n",
       "      <th>Value Dt</th>\n",
       "      <th>Withdrawal Amt.</th>\n",
       "      <th>Deposit Amt.</th>\n",
       "      <th>Narration_TF</th>\n",
       "    </tr>\n",
       "  </thead>\n",
       "  <tbody>\n",
       "    <tr>\n",
       "      <th>8</th>\n",
       "      <td>02/04/22</td>\n",
       "      <td>UPI-AMEY NITEEN WANI-AMEYWANI2012</td>\n",
       "      <td>0000209223765511</td>\n",
       "      <td>02/04/22</td>\n",
       "      <td>NaN</td>\n",
       "      <td>0.000616</td>\n",
       "      <td>33</td>\n",
       "    </tr>\n",
       "    <tr>\n",
       "      <th>33</th>\n",
       "      <td>11/04/22</td>\n",
       "      <td>UPI-AMEY NITEEN WANI-AMEYWANI2012</td>\n",
       "      <td>0000210122927068</td>\n",
       "      <td>11/04/22</td>\n",
       "      <td>NaN</td>\n",
       "      <td>0.000184</td>\n",
       "      <td>33</td>\n",
       "    </tr>\n",
       "    <tr>\n",
       "      <th>51</th>\n",
       "      <td>15/04/22</td>\n",
       "      <td>UPI-AMEY NITEEN WANI-AMEYWANI2012</td>\n",
       "      <td>0000210517003855</td>\n",
       "      <td>15/04/22</td>\n",
       "      <td>NaN</td>\n",
       "      <td>0.000936</td>\n",
       "      <td>33</td>\n",
       "    </tr>\n",
       "    <tr>\n",
       "      <th>52</th>\n",
       "      <td>15/04/22</td>\n",
       "      <td>UPI-AMEY NITEEN WANI-AMEYWANI2012</td>\n",
       "      <td>0000210517080933</td>\n",
       "      <td>15/04/22</td>\n",
       "      <td>NaN</td>\n",
       "      <td>0.000616</td>\n",
       "      <td>33</td>\n",
       "    </tr>\n",
       "    <tr>\n",
       "      <th>53</th>\n",
       "      <td>15/04/22</td>\n",
       "      <td>UPI-AMEY NITEEN WANI-AMEYWANI2012</td>\n",
       "      <td>0000210517069510</td>\n",
       "      <td>15/04/22</td>\n",
       "      <td>NaN</td>\n",
       "      <td>0.002216</td>\n",
       "      <td>33</td>\n",
       "    </tr>\n",
       "  </tbody>\n",
       "</table>\n",
       "</div>"
      ],
      "text/plain": [
       "        Date                          Narration      Chq./Ref.No.  Value Dt  \\\n",
       "8   02/04/22  UPI-AMEY NITEEN WANI-AMEYWANI2012  0000209223765511  02/04/22   \n",
       "33  11/04/22  UPI-AMEY NITEEN WANI-AMEYWANI2012  0000210122927068  11/04/22   \n",
       "51  15/04/22  UPI-AMEY NITEEN WANI-AMEYWANI2012  0000210517003855  15/04/22   \n",
       "52  15/04/22  UPI-AMEY NITEEN WANI-AMEYWANI2012  0000210517080933  15/04/22   \n",
       "53  15/04/22  UPI-AMEY NITEEN WANI-AMEYWANI2012  0000210517069510  15/04/22   \n",
       "\n",
       "    Withdrawal Amt.  Deposit Amt.  Narration_TF  \n",
       "8               NaN      0.000616            33  \n",
       "33              NaN      0.000184            33  \n",
       "51              NaN      0.000936            33  \n",
       "52              NaN      0.000616            33  \n",
       "53              NaN      0.002216            33  "
      ]
     },
     "execution_count": 21,
     "metadata": {},
     "output_type": "execute_result"
    }
   ],
   "source": [
    "# use label encoder\n",
    "from sklearn.preprocessing import LabelEncoder\n",
    "le = LabelEncoder()\n",
    "odf[\"Narration_TF\"] = le.fit_transform(odf[\"Narration\"])\n",
    "odf.iloc[[8, 33, 51, 52, 53]]"
   ]
  },
  {
   "cell_type": "code",
   "execution_count": 22,
   "metadata": {},
   "outputs": [
    {
     "data": {
      "text/plain": [
       "'UPI-AMEY NITEEN WANI-AMEYWANI2012'"
      ]
     },
     "execution_count": 22,
     "metadata": {},
     "output_type": "execute_result"
    }
   ],
   "source": [
    "odf.iloc[8][\"Narration\"] "
   ]
  },
  {
   "cell_type": "code",
   "execution_count": 23,
   "metadata": {},
   "outputs": [
    {
     "data": {
      "text/plain": [
       "'UPI-AMEY NITEEN WANI-AMEYWANI2012'"
      ]
     },
     "execution_count": 23,
     "metadata": {},
     "output_type": "execute_result"
    }
   ],
   "source": [
    "odf.iloc[33][\"Narration\"]"
   ]
  },
  {
   "cell_type": "code",
   "execution_count": 24,
   "metadata": {},
   "outputs": [
    {
     "data": {
      "text/plain": [
       "<Axes: >"
      ]
     },
     "execution_count": 24,
     "metadata": {},
     "output_type": "execute_result"
    },
    {
     "data": {
      "image/png": "[encoded data removed]",
      "text/plain": [
       "<Figure size 640x480 with 1 Axes>"
      ]
     },
     "metadata": {},
     "output_type": "display_data"
    }
   ],
   "source": [
    "df[\"Withdrawal Amt.\"].plot()"
   ]
  },
  {
   "cell_type": "code",
   "execution_count": 25,
   "metadata": {},
   "outputs": [
    {
     "data": {
      "text/plain": [
       "<Axes: >"
      ]
     },
     "execution_count": 25,
     "metadata": {},
     "output_type": "execute_result"
    },
    {
     "data": {
      "image/png": "[encoded data removed]",
      "text/plain": [
       "<Figure size 640x480 with 1 Axes>"
      ]
     },
     "metadata": {},
     "output_type": "display_data"
    }
   ],
   "source": [
    "df[\"Deposit Amt.\"].plot()"
   ]
  },
  {
   "cell_type": "code",
   "execution_count": 26,
   "metadata": {},
   "outputs": [
    {
     "name": "stdout",
     "output_type": "stream",
     "text": [
      "     Narration_TF  Deposit Amt.  Anomaly\n",
      "200           318      0.391985       -1\n",
      "205           321      0.000776       -1\n",
      "230             5      1.000000       -1\n",
      "340           322      0.001112       -1\n",
      "354            18      0.159980       -1\n",
      "367             3      0.199981       -1\n",
      "385             1      0.119979       -1\n",
      "461             8      0.063978       -1\n",
      "485             4      0.199981       -1\n",
      "493           262      0.039977       -1\n",
      "552            13      0.042201       -1\n",
      "647             0      0.119979       -1\n",
      "878           312      0.239982       -1\n",
      "963           169      0.119979       -1\n"
     ]
    },
    {
     "name": "stderr",
     "output_type": "stream",
     "text": [
      "C:\\Users\\Vedant\\AppData\\Local\\Temp\\ipykernel_96784\\1460040516.py:10: SettingWithCopyWarning: \n",
      "A value is trying to be set on a copy of a slice from a DataFrame\n",
      "\n",
      "See the caveats in the documentation: https://pandas.pydata.org/pandas-docs/stable/user_guide/indexing.html#returning-a-view-versus-a-copy\n",
      "  anomaly_df.dropna(inplace=True)\n",
      "c:\\Users\\Vedant\\anaconda3\\Lib\\site-packages\\sklearn\\base.py:439: UserWarning: X does not have valid feature names, but IsolationForest was fitted with feature names\n",
      "  warnings.warn(\n",
      "C:\\Users\\Vedant\\AppData\\Local\\Temp\\ipykernel_96784\\1460040516.py:22: SettingWithCopyWarning: \n",
      "A value is trying to be set on a copy of a slice from a DataFrame.\n",
      "Try using .loc[row_indexer,col_indexer] = value instead\n",
      "\n",
      "See the caveats in the documentation: https://pandas.pydata.org/pandas-docs/stable/user_guide/indexing.html#returning-a-view-versus-a-copy\n",
      "  anomaly_df['Anomaly'] = anomaly_pred\n"
     ]
    }
   ],
   "source": [
    "from sklearn.ensemble import IsolationForest\n",
    "\n",
    "# Create a dataframe with the columns of interest\n",
    "# intc = \"Withdrawal Amt.\"\n",
    "intc = \"Deposit Amt.\"\n",
    "\n",
    "anomaly_df = odf[['Narration_TF', intc]]\n",
    "\n",
    "# NaN values are not allowed, so we drop them\n",
    "anomaly_df.dropna(inplace=True)\n",
    "\n",
    "# Create an instance of the Isolation Forest model\n",
    "model = IsolationForest(contamination=0.05, random_state=42)\n",
    "\n",
    "# Fit the model to the data\n",
    "model.fit(anomaly_df)\n",
    "\n",
    "# Predict the anomalies\n",
    "anomaly_pred = model.predict(anomaly_df)\n",
    "\n",
    "# Add the anomaly predictions as a new column in the dataframe\n",
    "anomaly_df['Anomaly'] = anomaly_pred\n",
    "\n",
    "# Filter the dataframe to include only the anomalies\n",
    "anomalies = anomaly_df[anomaly_df['Anomaly'] == -1]\n",
    "\n",
    "# Print the anomalies\n",
    "print(anomalies)\n"
   ]
  },
  {
   "cell_type": "code",
   "execution_count": null,
   "metadata": {},
   "outputs": [],
   "source": [
    "odf.head()"
   ]
  },
  {
   "cell_type": "code",
   "execution_count": 28,
   "metadata": {},
   "outputs": [],
   "source": [
    "def get_anomaly(intc):\n",
    "    anomaly_df = odf[['Narration_TF', intc]]\n",
    "    anomaly_df = anomaly_df.dropna()\n",
    "    model = IsolationForest(contamination=0.05, random_state=42)\n",
    "    model.fit(anomaly_df)\n",
    "    anomaly_pred = model.predict(anomaly_df)\n",
    "    anomaly_df['Anomaly'] = anomaly_pred\n",
    "    anomalies = anomaly_df[anomaly_df['Anomaly'] == -1]\n",
    "    return anomalies"
   ]
  },
  {
   "cell_type": "code",
   "execution_count": 29,
   "metadata": {},
   "outputs": [],
   "source": [
    "def get_withdrawal_and_deposit_anomalies():\n",
    "    withdrawal_anomalies = get_anomaly(\"Withdrawal Amt.\")\n",
    "    deposit_anomalies = get_anomaly(\"Deposit Amt.\")\n",
    "    return withdrawal_anomalies, deposit_anomalies\n",
    "\n",
    "def get_net_expenditure():\n",
    "    \"\"\"Calculate the net expenditure over the entire dataset. But excule the anomalous entries\"\"\"\n",
    "    \"\"\"\n",
    "    The net expenditure is calculated as the sum of the withdrawal amounts minus the sum of the deposit amounts.\n",
    "    \"\"\"\n",
    "    withdrawal_anomalies, deposit_anomalies = get_withdrawal_and_deposit_anomalies()\n",
    "    # drop the anomalous entries\n",
    "    df1 = odf.drop(withdrawal_anomalies.index)\n",
    "    df1 = df1.drop(deposit_anomalies.index)\n",
    "    df1.head()\n",
    "    # transform nan to 0\n",
    "    df1[\"Withdrawal Amt.\"] = df1[\"Withdrawal Amt.\"].fillna(0)\n",
    "    df1[\"Deposit Amt.\"] = df1[\"Deposit Amt.\"].fillna(0)\n",
    "    net_expenditure = df1[\"Withdrawal Amt.\"].sum() - df1[\"Deposit Amt.\"].sum()\n",
    "    return net_expenditure\n",
    "    # net_expenditure = df[\"Withdrawal Amt.\"].sum() - df[\"Deposit Amt.\"].sum()\n",
    "    # # Exclude the anomalous entries\n",
    "    # net_expenditure -= withdrawal_anomalies[\"Withdrawal Amt.\"].sum()\n",
    "    # net_expenditure += deposit_anomalies[\"Deposit Amt.\"].sum()\n"
   ]
  },
  {
   "cell_type": "code",
   "execution_count": 30,
   "metadata": {},
   "outputs": [
    {
     "name": "stderr",
     "output_type": "stream",
     "text": [
      "c:\\Users\\Vedant\\anaconda3\\Lib\\site-packages\\sklearn\\base.py:439: UserWarning: X does not have valid feature names, but IsolationForest was fitted with feature names\n",
      "  warnings.warn(\n",
      "c:\\Users\\Vedant\\anaconda3\\Lib\\site-packages\\sklearn\\base.py:439: UserWarning: X does not have valid feature names, but IsolationForest was fitted with feature names\n",
      "  warnings.warn(\n"
     ]
    },
    {
     "data": {
      "text/plain": [
       "7.74264892771583"
      ]
     },
     "execution_count": 30,
     "metadata": {},
     "output_type": "execute_result"
    }
   ],
   "source": [
    "\"\"\"Calculate the net expenditure over the entire dataset. But excule the anomalous entries\"\"\"\n",
    "\"\"\"\n",
    "The net expenditure is calculated as the sum of the withdrawal amounts minus the sum of the deposit amounts.\n",
    "\"\"\"\n",
    "withdrawal_anomalies, deposit_anomalies = get_withdrawal_and_deposit_anomalies()\n",
    "# drop the anomalous entries\n",
    "df1 = odf.drop(withdrawal_anomalies.index)\n",
    "df1 = df1.drop(deposit_anomalies.index)\n",
    "df1.head()\n",
    "# transform nan to 0\n",
    "df1[\"Withdrawal Amt.\"] = df1[\"Withdrawal Amt.\"].fillna(0)\n",
    "df1[\"Deposit Amt.\"] = df1[\"Deposit Amt.\"].fillna(0)\n",
    "net_expenditure = df1[\"Withdrawal Amt.\"].sum() - df1[\"Deposit Amt.\"].sum()\n",
    "net_expenditure"
   ]
  },
  {
   "cell_type": "code",
   "execution_count": 31,
   "metadata": {},
   "outputs": [],
   "source": [
    "real_anomalies_withdraw = [407, 421, 422, 424, 426, 428, 430, 445, 460, 492, 543, 555, 592,  1000, 686, 767, 890, 934, 961]\n"
   ]
  },
  {
   "cell_type": "code",
   "execution_count": null,
   "metadata": {},
   "outputs": [],
   "source": [
    "odf.iloc[real_anomalies_withdraw][[\"Date\", \"Narration\", \"Withdrawal Amt.\"]]"
   ]
  },
  {
   "cell_type": "code",
   "execution_count": null,
   "metadata": {},
   "outputs": [],
   "source": [
    "withdrawal_anomalies\n",
    "odf.iloc[withdrawal_anomalies.index][[\"Date\", \"Narration\", \"Withdrawal Amt.\"]]"
   ]
  },
  {
   "cell_type": "code",
   "execution_count": 34,
   "metadata": {},
   "outputs": [
    {
     "data": {
      "text/plain": [
       "Index([200, 230, 354, 367, 385, 485, 493, 552, 647, 878, 963], dtype='int64')"
      ]
     },
     "execution_count": 34,
     "metadata": {},
     "output_type": "execute_result"
    }
   ],
   "source": [
    "not_real_anomalies_deposits = [205,340,461]\n",
    "real_anomalies_deposits = deposit_anomalies.index.difference(not_real_anomalies_deposits)\n",
    "real_anomalies_deposits\n"
   ]
  },
  {
   "cell_type": "code",
   "execution_count": null,
   "metadata": {},
   "outputs": [],
   "source": [
    "odf.iloc[real_anomalies_deposits][[\"Date\", \"Narration\", \"Deposit Amt.\"]]"
   ]
  },
  {
   "cell_type": "code",
   "execution_count": null,
   "metadata": {},
   "outputs": [],
   "source": [
    "deposit_anomalies\n",
    "odf.iloc[deposit_anomalies.index][[\"Date\", \"Narration\", \"Deposit Amt.\"]]"
   ]
  },
  {
   "cell_type": "code",
   "execution_count": 37,
   "metadata": {},
   "outputs": [
    {
     "data": {
      "image/png": "[encoded data removed]",
      "text/plain": [
       "<Figure size 640x480 with 1 Axes>"
      ]
     },
     "metadata": {},
     "output_type": "display_data"
    }
   ],
   "source": [
    "# visualize the anomalies\n",
    "plt.scatter(anomaly_df['Narration_TF'], anomaly_df[intc], c=anomaly_df['Anomaly'])\n",
    "plt.xlabel('Narration')\n",
    "plt.ylabel(intc)\n",
    "plt.title(f'Anomalies in {intc}')\n",
    "plt.show()"
   ]
  },
  {
   "cell_type": "code",
   "execution_count": 38,
   "metadata": {},
   "outputs": [
    {
     "name": "stdout",
     "output_type": "stream",
     "text": [
      "     Narration_TF  Withdrawal Amt.  Anomaly\n",
      "123           293         0.023201       -1\n",
      "227           134         0.216730       -1\n",
      "262           293         0.058899       -1\n",
      "280           250         0.056279       -1\n",
      "348           190         0.164702       -1\n",
      "371            50         0.134929       -1\n",
      "376           306         0.031271       -1\n",
      "392           323         0.159765       -1\n",
      "407           109         0.955377       -1\n",
      "421           224         0.127485       -1\n",
      "422           135         0.197742       -1\n",
      "424           131         0.102800       -1\n",
      "426           260         0.102800       -1\n",
      "428           169         0.064824       -1\n",
      "430           158         0.064824       -1\n",
      "445           251         0.056279       -1\n",
      "457           323         0.159765       -1\n",
      "460           262         0.102800       -1\n",
      "492           131         0.102800       -1\n",
      "543           244         0.121789       -1\n",
      "551            50         0.108079       -1\n",
      "553            50         0.119472       -1\n",
      "555            37         0.216730       -1\n",
      "592           131         0.131283       -1\n",
      "623           124         0.072282       -1\n",
      "640            50         0.084704       -1\n",
      "651             9         0.045835       -1\n",
      "652             9         0.026847       -1\n",
      "665           314         0.017353       -1\n",
      "686            12         0.000000       -1\n",
      "752            62         0.056146       -1\n",
      "767           320         0.159765       -1\n",
      "890             2         1.000000       -1\n",
      "934            40         0.059127       -1\n",
      "946            50         0.075609       -1\n",
      "961            10         0.045835       -1\n",
      "995           294         0.041867       -1\n"
     ]
    },
    {
     "name": "stderr",
     "output_type": "stream",
     "text": [
      "C:\\Users\\Vedant\\AppData\\Local\\Temp\\ipykernel_96784\\3145424944.py:10: SettingWithCopyWarning: \n",
      "A value is trying to be set on a copy of a slice from a DataFrame\n",
      "\n",
      "See the caveats in the documentation: https://pandas.pydata.org/pandas-docs/stable/user_guide/indexing.html#returning-a-view-versus-a-copy\n",
      "  anomaly_df.dropna(inplace=True)\n",
      "c:\\Users\\Vedant\\anaconda3\\Lib\\site-packages\\sklearn\\base.py:439: UserWarning: X does not have valid feature names, but IsolationForest was fitted with feature names\n",
      "  warnings.warn(\n",
      "C:\\Users\\Vedant\\AppData\\Local\\Temp\\ipykernel_96784\\3145424944.py:22: SettingWithCopyWarning: \n",
      "A value is trying to be set on a copy of a slice from a DataFrame.\n",
      "Try using .loc[row_indexer,col_indexer] = value instead\n",
      "\n",
      "See the caveats in the documentation: https://pandas.pydata.org/pandas-docs/stable/user_guide/indexing.html#returning-a-view-versus-a-copy\n",
      "  anomaly_df['Anomaly'] = anomaly_pred\n"
     ]
    }
   ],
   "source": [
    "from sklearn.ensemble import IsolationForest\n",
    "\n",
    "# Create a dataframe with the columns of interest\n",
    "# intc = \"Withdrawal Amt.\"\n",
    "intc = \"Withdrawal Amt.\"\n",
    "\n",
    "anomaly_df = odf[['Narration_TF', intc]]\n",
    "\n",
    "# NaN values are not allowed, so we drop them\n",
    "anomaly_df.dropna(inplace=True)\n",
    "\n",
    "# Create an instance of the Isolation Forest model\n",
    "model = IsolationForest(contamination=0.05, random_state=42)\n",
    "\n",
    "# Fit the model to the data\n",
    "model.fit(anomaly_df)\n",
    "\n",
    "# Predict the anomalies\n",
    "anomaly_pred = model.predict(anomaly_df)\n",
    "\n",
    "# Add the anomaly predictions as a new column in the dataframe\n",
    "anomaly_df['Anomaly'] = anomaly_pred\n",
    "\n",
    "# Filter the dataframe to include only the anomalies\n",
    "anomalies = anomaly_df[anomaly_df['Anomaly'] == -1]\n",
    "\n",
    "# Print the anomalies\n",
    "print(anomalies)\n"
   ]
  },
  {
   "cell_type": "code",
   "execution_count": 39,
   "metadata": {},
   "outputs": [],
   "source": [
    "import matplotlib.pyplot as plt\n",
    "\n",
    "def visualize_anomalies(anomaly_df, intc, odf):\n",
    "    plt.scatter(odf['Narration_TF'], odf[intc], c='blue')\n",
    "    plt.scatter(anomaly_df['Narration_TF'], anomaly_df[intc], c=anomaly_df['Anomaly'])\n",
    "    plt.xlabel('Narration')\n",
    "    plt.ylabel(intc)\n",
    "    plt.title(f'Anomalies in {intc}')\n",
    "    plt.show()\n"
   ]
  },
  {
   "cell_type": "code",
   "execution_count": 40,
   "metadata": {},
   "outputs": [
    {
     "name": "stderr",
     "output_type": "stream",
     "text": [
      "c:\\Users\\Vedant\\anaconda3\\Lib\\site-packages\\sklearn\\base.py:439: UserWarning: X does not have valid feature names, but IsolationForest was fitted with feature names\n",
      "  warnings.warn(\n",
      "c:\\Users\\Vedant\\anaconda3\\Lib\\site-packages\\sklearn\\base.py:439: UserWarning: X does not have valid feature names, but IsolationForest was fitted with feature names\n",
      "  warnings.warn(\n"
     ]
    },
    {
     "data": {
      "image/png": "[encoded data removed]",
      "text/plain": [
       "<Figure size 640x480 with 1 Axes>"
      ]
     },
     "metadata": {},
     "output_type": "display_data"
    },
    {
     "data": {
      "image/png": "[encoded data removed]",
      "text/plain": [
       "<Figure size 640x480 with 1 Axes>"
      ]
     },
     "metadata": {},
     "output_type": "display_data"
    }
   ],
   "source": [
    "withdrawal_anomalies, deposit_anomalies = get_withdrawal_and_deposit_anomalies()\n",
    "\n",
    "visualize_anomalies(withdrawal_anomalies, \"Withdrawal Amt.\", odf)\n",
    "visualize_anomalies(deposit_anomalies, \"Deposit Amt.\", odf)\n"
   ]
  }
 ],
 "metadata": {
  "kernelspec": {
   "display_name": "base",
   "language": "python",
   "name": "python3"
  },
  "language_info": {
   "codemirror_mode": {
    "name": "ipython",
    "version": 3
   },
   "file_extension": ".py",
   "mimetype": "text/x-python",
   "name": "python",
   "nbconvert_exporter": "python",
   "pygments_lexer": "ipython3",
   "version": "3.11.8"
  }
 },
 "nbformat": 4,
 "nbformat_minor": 2
}
